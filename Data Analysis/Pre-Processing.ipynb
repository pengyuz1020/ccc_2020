{
 "cells": [
  {
   "cell_type": "code",
   "execution_count": 1,
   "metadata": {},
   "outputs": [],
   "source": [
    "import json\n",
    "import os\n",
    "import csv\n",
    "from matplotlib import pyplot as plt\n",
    "import numpy as np\n",
    "import pandas as pd\n",
    "import math"
   ]
  },
  {
   "cell_type": "markdown",
   "metadata": {},
   "source": [
    "###  Population"
   ]
  },
  {
   "cell_type": "code",
   "execution_count": 249,
   "metadata": {},
   "outputs": [],
   "source": [
    "polulationfile = \"Population_2017.csv\"\n",
    "records = []\n",
    "with open(polulationfile,\"r\") as file:\n",
    "    reader = csv.reader(file,delimiter = ',')\n",
    "    for row in reader:\n",
    "        records.append(row)\n",
    "    \n",
    "columns = records[0]\n",
    "records = records[1:]"
   ]
  },
  {
   "cell_type": "code",
   "execution_count": 89,
   "metadata": {},
   "outputs": [
    {
     "name": "stdout",
     "output_type": "stream",
     "text": [
      "['state_code', ' gccsa_code16', ' gccsa_name16', ' persons_total', ' state_name']\n"
     ]
    }
   ],
   "source": [
    "print(columns)"
   ]
  },
  {
   "cell_type": "code",
   "execution_count": 250,
   "metadata": {},
   "outputs": [
    {
     "name": "stdout",
     "output_type": "stream",
     "text": [
      "['New South Wales', 'Tasmania', 'Queensland', 'Australian Capital Territory', 'Northern Territory', 'Western Australia', 'South Australia', 'Victoria']\n",
      "['Greater Hobart', 'Rest of NT', 'Greater Sydney', 'Rest of SA', 'Greater Brisbane', 'Greater Perth', 'Rest of NSW', 'Greater Adelaide', 'Greater Melbourne', 'Rest of Tas.', 'Rest of Qld', 'Greater Darwin', 'Rest of Vic.', 'Rest of WA', 'Australian Capital Territory']\n"
     ]
    }
   ],
   "source": [
    "city_name = []\n",
    "state_name = []\n",
    "for i in range(len(records)):\n",
    "    city_name.append(records[i][2])\n",
    "    state_name.append(records[i][4])\n",
    "\n",
    "states = list(set(state_name))\n",
    "cities = list(set(city_name))\n",
    "print(states)\n",
    "print(cities)"
   ]
  },
  {
   "cell_type": "code",
   "execution_count": 251,
   "metadata": {},
   "outputs": [],
   "source": [
    "states_tag = [\"New South Wales\",\"Victoria\",\"Queensland\",\"Western Australia\",\"South Australia\",\"Tasmania\",\"Northern Territory\"]\n",
    "cities_tag = [\"Melbourne\",\"Sydney\",\"Brisbane\",\"Perth\",\"Adelaide\",\"Canberra\",\"Gold Coast\",\"Newcastle\",\"Geelong\",\"Hobart\"]"
   ]
  },
  {
   "cell_type": "code",
   "execution_count": 4,
   "metadata": {},
   "outputs": [],
   "source": [
    "cities_rename = {'Greater Sydney':'Sydney','Greater Brisbane':'Brisbane',\n",
    "                 'Greater Perth':'Perth','Greater Hobart':'Hobart',\n",
    "                 'Greater Adelaide':'Adelaide','Greater Melbourne':'Melbourne',\n",
    "                 'Greater Darwin':'Darwin'}   "
   ]
  },
  {
   "cell_type": "code",
   "execution_count": 253,
   "metadata": {},
   "outputs": [],
   "source": [
    "# get the population for states\n",
    "populations_state = {}\n",
    "\n",
    "for i in range(len(records)):\n",
    "    for state in states:\n",
    "        if records[i][4] == state:\n",
    "            populations_state[state] = populations_state.get(state,0) + int(records[i][3])\n",
    "            \n",
    "#populations_state[\"West Australia\"] = populations_state.pop(\"Western Australia\")"
   ]
  },
  {
   "cell_type": "code",
   "execution_count": 254,
   "metadata": {},
   "outputs": [
    {
     "name": "stdout",
     "output_type": "stream",
     "text": [
      "{'New South Wales': 7861674, 'Victoria': 6321648, 'Queensland': 4929152, 'South Australia': 1723671, 'Western Australia': 2575452, 'Tasmania': 522152, 'Northern Territory': 247491, 'Australian Capital Territory': 411667}\n"
     ]
    }
   ],
   "source": [
    "print(populations_state)"
   ]
  },
  {
   "cell_type": "code",
   "execution_count": 97,
   "metadata": {},
   "outputs": [],
   "source": [
    "outfile = open(\"AU_Area_Population.json\",\"w\")\n",
    "json.dump(populations_state,outfile)\n",
    "outfile.close()"
   ]
  },
  {
   "cell_type": "code",
   "execution_count": 234,
   "metadata": {},
   "outputs": [
    {
     "data": {
      "image/png": "[encoded data removed]",
      "text/plain": [
       "<Figure size 432x288 with 1 Axes>"
      ]
     },
     "metadata": {
      "needs_background": "light"
     },
     "output_type": "display_data"
    }
   ],
   "source": [
    "fig = plt.figure()\n",
    "\n",
    "tag = list(populations_state.keys())\n",
    "num = list(populations_state.values())\n",
    "y_pos = np.arange(len(tag))\n",
    "\n",
    "data = pd.DataFrame({'x':tag,'y':num})\n",
    "data = data.sort_values('y')\n",
    "#plt.ylim([0,5132355])\n",
    "plt.barh(data['x'],data['y'],align='center',alpha=0.8)\n",
    "plt.show()"
   ]
  },
  {
   "cell_type": "code",
   "execution_count": null,
   "metadata": {},
   "outputs": [],
   "source": []
  },
  {
   "cell_type": "code",
   "execution_count": null,
   "metadata": {},
   "outputs": [],
   "source": []
  },
  {
   "cell_type": "code",
   "execution_count": 98,
   "metadata": {},
   "outputs": [
    {
     "name": "stdout",
     "output_type": "stream",
     "text": [
      "{'Sydney': '5132355', 'Melbourne': '4843781', 'Brisbane': '2413457', 'Adelaide': '1334167', 'Perth': '2039041', 'Hobart': '229088', 'Darwin': '148884'}\n"
     ]
    }
   ],
   "source": [
    "# get population for cities\n",
    "populations_city = {}\n",
    "for i in range(len(records)):\n",
    "    if records[i][2] in cities_rename.keys():\n",
    "        populations_city[cities_rename[records[i][2]]] = records[i][3]\n",
    "        \n",
    "print(populations_city)"
   ]
  },
  {
   "cell_type": "code",
   "execution_count": 99,
   "metadata": {},
   "outputs": [],
   "source": [
    "outfile = open(\"AU_City_Population.json\",\"w\")\n",
    "json.dump(populations_city,outfile)\n",
    "outfile.close()"
   ]
  },
  {
   "cell_type": "code",
   "execution_count": 201,
   "metadata": {},
   "outputs": [
    {
     "data": {
      "image/png": "[encoded data removed]",
      "text/plain": [
       "<Figure size 432x288 with 1 Axes>"
      ]
     },
     "metadata": {
      "needs_background": "light"
     },
     "output_type": "display_data"
    }
   ],
   "source": [
    "fig = plt.figure()\n",
    "\n",
    "tag = list(populations_city.keys())\n",
    "num = list(populations_city.values())\n",
    "y_pos = np.arange(len(tag))\n",
    "\n",
    "data = pd.DataFrame({'x':tag,'y':num})\n",
    "data = data.sort_values('y')\n",
    "#plt.ylim([0,5132355])\n",
    "plt.bar(data['x'],data['y'],align='center',alpha=0.8)\n",
    "plt.show()"
   ]
  },
  {
   "cell_type": "code",
   "execution_count": 214,
   "metadata": {},
   "outputs": [
    {
     "data": {
      "text/html": [
       "<div>\n",
       "<style scoped>\n",
       "    .dataframe tbody tr th:only-of-type {\n",
       "        vertical-align: middle;\n",
       "    }\n",
       "\n",
       "    .dataframe tbody tr th {\n",
       "        vertical-align: top;\n",
       "    }\n",
       "\n",
       "    .dataframe thead th {\n",
       "        text-align: right;\n",
       "    }\n",
       "</style>\n",
       "<table border=\"1\" class=\"dataframe\">\n",
       "  <thead>\n",
       "    <tr style=\"text-align: right;\">\n",
       "      <th></th>\n",
       "      <th>x</th>\n",
       "      <th>y</th>\n",
       "    </tr>\n",
       "  </thead>\n",
       "  <tbody>\n",
       "    <tr>\n",
       "      <td>3</td>\n",
       "      <td>Adelaide</td>\n",
       "      <td>1334167</td>\n",
       "    </tr>\n",
       "    <tr>\n",
       "      <td>6</td>\n",
       "      <td>Darwin</td>\n",
       "      <td>148884</td>\n",
       "    </tr>\n",
       "    <tr>\n",
       "      <td>4</td>\n",
       "      <td>Perth</td>\n",
       "      <td>2039041</td>\n",
       "    </tr>\n",
       "    <tr>\n",
       "      <td>5</td>\n",
       "      <td>Hobart</td>\n",
       "      <td>229088</td>\n",
       "    </tr>\n",
       "    <tr>\n",
       "      <td>2</td>\n",
       "      <td>Brisbane</td>\n",
       "      <td>2413457</td>\n",
       "    </tr>\n",
       "  </tbody>\n",
       "</table>\n",
       "</div>"
      ],
      "text/plain": [
       "          x        y\n",
       "3  Adelaide  1334167\n",
       "6    Darwin   148884\n",
       "4     Perth  2039041\n",
       "5    Hobart   229088\n",
       "2  Brisbane  2413457"
      ]
     },
     "execution_count": 214,
     "metadata": {},
     "output_type": "execute_result"
    }
   ],
   "source": [
    "data.head()"
   ]
  },
  {
   "cell_type": "markdown",
   "metadata": {},
   "source": [
    "### Income"
   ]
  },
  {
   "cell_type": "code",
   "execution_count": 2,
   "metadata": {},
   "outputs": [],
   "source": [
    "incomefile = \"Income_2014.csv\"\n",
    "records = []\n",
    "with open(incomefile,\"r\") as file:\n",
    "    reader = csv.reader(file,delimiter = ',')\n",
    "    for row in reader:\n",
    "        records.append(row)\n",
    "    \n",
    "columns = records[0]\n",
    "records = records[1:]"
   ]
  },
  {
   "cell_type": "code",
   "execution_count": 256,
   "metadata": {},
   "outputs": [
    {
     "name": "stdout",
     "output_type": "stream",
     "text": [
      "['mean_aud', ' median_aud', ' income_aud', ' gini_coefficient_no', ' gcc_name16', ' gccsa_code_2016']\n"
     ]
    }
   ],
   "source": [
    "print(columns)"
   ]
  },
  {
   "cell_type": "code",
   "execution_count": 5,
   "metadata": {},
   "outputs": [
    {
     "name": "stdout",
     "output_type": "stream",
     "text": [
      "{'Sydney': {'mean': '66353', 'median': '48381', 'total': '172926801782'}, 'Melbourne': {'mean': '60467', 'median': '46363', 'total': '144873818735'}, 'Brisbane': {'mean': '60587', 'median': '47690', 'total': '74215136853'}, 'Adelaide': {'mean': '56109', 'median': '45778', 'total': '39296393081'}, 'Perth': {'mean': '70700', 'median': '53001', 'total': '80777010693'}, 'Hobart': {'mean': '53136', 'median': '44265', 'total': '6251288106'}, 'Darwin': {'mean': '68726', 'median': '59187', 'total': '5848235151'}}\n"
     ]
    }
   ],
   "source": [
    "# get income for cities\n",
    "income_city = {}\n",
    "income_stat = {}\n",
    "for i in range(len(records)):\n",
    "    if records[i][4] in cities_rename.keys():\n",
    "        income_stat['mean'] = records[i][0]\n",
    "        income_stat['median'] = records[i][1]\n",
    "        income_stat['total'] = records[i][2]\n",
    "        income_city[cities_rename[records[i][4]]] = dict(income_stat)\n",
    "        \n",
    "print(income_city)"
   ]
  },
  {
   "cell_type": "code",
   "execution_count": 270,
   "metadata": {},
   "outputs": [],
   "source": [
    "outfile = open(\"AU_City_Income.json\",\"w\")\n",
    "json.dump(income_city,outfile)\n",
    "outfile.close()"
   ]
  },
  {
   "cell_type": "code",
   "execution_count": 257,
   "metadata": {},
   "outputs": [],
   "source": [
    "state_code = {'1':'New South Wales','2':'Victoria','3':'Queensland','4':'South Australia',\n",
    "              '5':'Western Australia','6':'Tasmania','7':'Northern Territory'}"
   ]
  },
  {
   "cell_type": "code",
   "execution_count": 269,
   "metadata": {},
   "outputs": [
    {
     "name": "stdout",
     "output_type": "stream",
     "text": [
      "{'New South Wales': 242354471878, 'Victoria': 181575522047, 'Queensland': 144586177851, 'South Australia': 48859394933, 'Western Australia': 99225701155, 'Tasmania': 13146217387, 'Northern Territory': 7711858218}\n"
     ]
    }
   ],
   "source": [
    "# get income for states\n",
    "income_state = {}\n",
    "for i in range(len(records)):\n",
    "    if records[i][5][0] in state_code.keys():\n",
    "        income_state[state_code[records[i][5][0]]] =income_state.get(state_code[records[i][5][0]],0) + int(records[i][2])\n",
    "        \n",
    "print(income_state)"
   ]
  },
  {
   "cell_type": "code",
   "execution_count": 271,
   "metadata": {},
   "outputs": [],
   "source": [
    "outfile = open(\"AU_Area_Income.json\",\"w\")\n",
    "json.dump(income_state,outfile)\n",
    "outfile.close()"
   ]
  },
  {
   "cell_type": "code",
   "execution_count": 7,
   "metadata": {},
   "outputs": [
    {
     "name": "stdout",
     "output_type": "stream",
     "text": [
      "['172926801782', '144873818735', '74215136853', '39296393081', '80777010693', '6251288106', '5848235151']\n",
      "['Sydney', 'Melbourne', 'Brisbane', 'Adelaide', 'Perth', 'Hobart', 'Darwin']\n"
     ]
    }
   ],
   "source": [
    "pop_total = []\n",
    "pop_mean = []\n",
    "pop_median = []\n",
    "for u,v in income_city.items():\n",
    "    pop_total.append(v['total'])\n",
    "    pop_mean.append(v['mean'])\n",
    "    pop_median.append(v['median'])\n",
    "print(pop_total)\n",
    "groups = list(income_city.keys())\n",
    "print(groups)"
   ]
  },
  {
   "cell_type": "code",
   "execution_count": 18,
   "metadata": {},
   "outputs": [
    {
     "data": {
      "image/png": "[encoded data removed]",
      "text/plain": [
       "<Figure size 432x288 with 1 Axes>"
      ]
     },
     "metadata": {
      "needs_background": "light"
     },
     "output_type": "display_data"
    }
   ],
   "source": [
    "# data to plot\n",
    "n_groups = 7\n",
    "\n",
    "df = pd.DataFrame({'x':groups,'y1':pop_total,'y2':pop_mean,'y3':pop_median})    \n",
    "df= df.sort_values('y1')\n",
    "# create plot\n",
    "fig, ax = plt.subplots()\n",
    "index = np.arange(len(df['x']))\n",
    "bar_width = 0.38\n",
    "opacity = 0.6\n",
    "\n",
    "#rects1 = plt.bar(index, df['y1'], bar_width,\n",
    "#alpha=opacity,\n",
    "#color='b',\n",
    "#label='total')\n",
    "\n",
    "#rects2 = plt.bar(index+ bar_width + bar_width, df['y2'], bar_width,\n",
    "#alpha=opacity,\n",
    "#color='g',\n",
    "#label='mean')\n",
    "\n",
    "rects2 = plt.bar(index, df['y1'],\n",
    "alpha=opacity,\n",
    "color='b',\n",
    "label='median',align='center')\n",
    "\n",
    "plt.xlabel('City')\n",
    "plt.ylabel('Income (AUD)')\n",
    "plt.title('Income')\n",
    "plt.xticks(index, groups)\n",
    "plt.legend()\n",
    "\n",
    "plt.tight_layout()\n",
    "plt.show()"
   ]
  },
  {
   "cell_type": "code",
   "execution_count": 17,
   "metadata": {},
   "outputs": [
    {
     "data": {
      "text/html": [
       "<div>\n",
       "<style scoped>\n",
       "    .dataframe tbody tr th:only-of-type {\n",
       "        vertical-align: middle;\n",
       "    }\n",
       "\n",
       "    .dataframe tbody tr th {\n",
       "        vertical-align: top;\n",
       "    }\n",
       "\n",
       "    .dataframe thead th {\n",
       "        text-align: right;\n",
       "    }\n",
       "</style>\n",
       "<table border=\"1\" class=\"dataframe\">\n",
       "  <thead>\n",
       "    <tr style=\"text-align: right;\">\n",
       "      <th></th>\n",
       "      <th>x</th>\n",
       "      <th>y1</th>\n",
       "      <th>y2</th>\n",
       "      <th>y3</th>\n",
       "    </tr>\n",
       "  </thead>\n",
       "  <tbody>\n",
       "    <tr>\n",
       "      <td>1</td>\n",
       "      <td>Melbourne</td>\n",
       "      <td>144873818735</td>\n",
       "      <td>60467</td>\n",
       "      <td>46363</td>\n",
       "    </tr>\n",
       "    <tr>\n",
       "      <td>0</td>\n",
       "      <td>Sydney</td>\n",
       "      <td>172926801782</td>\n",
       "      <td>66353</td>\n",
       "      <td>48381</td>\n",
       "    </tr>\n",
       "    <tr>\n",
       "      <td>3</td>\n",
       "      <td>Adelaide</td>\n",
       "      <td>39296393081</td>\n",
       "      <td>56109</td>\n",
       "      <td>45778</td>\n",
       "    </tr>\n",
       "    <tr>\n",
       "      <td>6</td>\n",
       "      <td>Darwin</td>\n",
       "      <td>5848235151</td>\n",
       "      <td>68726</td>\n",
       "      <td>59187</td>\n",
       "    </tr>\n",
       "    <tr>\n",
       "      <td>5</td>\n",
       "      <td>Hobart</td>\n",
       "      <td>6251288106</td>\n",
       "      <td>53136</td>\n",
       "      <td>44265</td>\n",
       "    </tr>\n",
       "  </tbody>\n",
       "</table>\n",
       "</div>"
      ],
      "text/plain": [
       "           x            y1     y2     y3\n",
       "1  Melbourne  144873818735  60467  46363\n",
       "0     Sydney  172926801782  66353  48381\n",
       "3   Adelaide   39296393081  56109  45778\n",
       "6     Darwin    5848235151  68726  59187\n",
       "5     Hobart    6251288106  53136  44265"
      ]
     },
     "execution_count": 17,
     "metadata": {},
     "output_type": "execute_result"
    }
   ],
   "source": [
    "df = pd.DataFrame({'x':groups,'y1':pop_total,'y2':pop_mean,'y3':pop_median})    \n",
    "df= df.sort_values('y1')\n",
    "df.head()"
   ]
  },
  {
   "cell_type": "markdown",
   "metadata": {},
   "source": [
    "### Education"
   ]
  },
  {
   "cell_type": "code",
   "execution_count": 272,
   "metadata": {},
   "outputs": [],
   "source": [
    "edufile = \"Education_2016.csv\"\n",
    "records = []\n",
    "with open(edufile,\"r\") as file:\n",
    "    reader = csv.reader(file,delimiter = ',')\n",
    "    for row in reader:\n",
    "        records.append(row)\n",
    "    \n",
    "columns = records[0]\n",
    "records = records[1:]"
   ]
  },
  {
   "cell_type": "code",
   "execution_count": 273,
   "metadata": {},
   "outputs": [
    {
     "name": "stdout",
     "output_type": "stream",
     "text": [
      "['gcc_code16', ' p_lvl_educ_ns_tot', ' p_tot_tot', ' p_lvl_educ_inad_desc_tot', ' p_adv_dip_dip_total', ' gcc_name16', ' p_pguate_deg_tot', ' p_grad_dip_cer_tot', ' p_cer_tot_tot', ' p_b_deg_tot']\n"
     ]
    }
   ],
   "source": [
    "print(columns)"
   ]
  },
  {
   "cell_type": "code",
   "execution_count": 280,
   "metadata": {},
   "outputs": [],
   "source": [
    "# get Education level for cities\n",
    "Education_stats = {}\n",
    "Education_city = {}\n",
    "features = ['Not stated','Inadequate','Diploma','Postgraduate','Graduate','Certificate','Bachelor']\n",
    "for i in range(len(records)):\n",
    "    if records[i][5] in cities_rename.keys():\n",
    "        Education_stats[features[0]] = records[i][1]\n",
    "        for j in range(1,len(features)):\n",
    "            if j <3:\n",
    "                Education_stats[features[j]] = records[i][j+2]\n",
    "            else:\n",
    "                Education_stats[features[j]] = records[i][j+3] \n",
    "        Education_city[cities_rename[records[i][5]]] = dict(Education_stats)\n",
    "        \n",
    "#print(Education_city)"
   ]
  },
  {
   "cell_type": "code",
   "execution_count": 140,
   "metadata": {},
   "outputs": [],
   "source": [
    "outfile = open(\"AU_City_Education.json\",\"w\")\n",
    "json.dump(Education_city,outfile)\n",
    "outfile.close()"
   ]
  },
  {
   "cell_type": "code",
   "execution_count": 313,
   "metadata": {},
   "outputs": [],
   "source": [
    "# get education level for states\n",
    "Education_parts = {}\n",
    "Education_dict = {}\n",
    "for i in range(len(records)):\n",
    "    if records[i][0][0] in state_code.keys():\n",
    "        Education_dict[features[0]] = records[i][1]\n",
    "        for j in range(1,len(features)):\n",
    "            if j < 3:\n",
    "                Education_dict[features[j]] = records[i][j+2]\n",
    "            else:\n",
    "                Education_dict[features[j]] =  records[i][j+3]\n",
    "        Education_parts[records[i][0]] = dict(Education_dict)\n",
    "#print(Education_parts)"
   ]
  },
  {
   "cell_type": "code",
   "execution_count": 314,
   "metadata": {},
   "outputs": [
    {
     "name": "stdout",
     "output_type": "stream",
     "text": [
      "{'New South Wales': {'Not stated': 581265, 'Inadequate': 58060, 'Diploma': 541633, 'Postgraduate': 343722, 'Graduate': 103308, 'Certificate': 1097265, 'Bachelor': 975392}, 'Victoria': {'Not stated': 435949, 'Inadequate': 36459, 'Diploma': 442148, 'Postgraduate': 258407, 'Graduate': 117955, 'Certificate': 809029, 'Bachelor': 792561}, 'Queensland': {'Not stated': 392627, 'Inadequate': 27788, 'Diploma': 335563, 'Postgraduate': 135694, 'Graduate': 67856, 'Certificate': 814836, 'Bachelor': 497835}, 'South Australia': {'Not stated': 113197, 'Inadequate': 10766, 'Diploma': 113824, 'Postgraduate': 50695, 'Graduate': 24863, 'Certificate': 275588, 'Bachelor': 179137}, 'Western Australia': {'Not stated': 208915, 'Inadequate': 16691, 'Diploma': 178417, 'Postgraduate': 77038, 'Graduate': 38825, 'Certificate': 410642, 'Bachelor': 295724}, 'Tasmania': {'Not stated': 39855, 'Inadequate': 2797, 'Diploma': 30720, 'Postgraduate': 13320, 'Graduate': 7389, 'Certificate': 87850, 'Bachelor': 46334}, 'Northern Territory': {'Not stated': 36374, 'Inadequate': 1208, 'Diploma': 14655, 'Postgraduate': 7090, 'Graduate': 3943, 'Certificate': 40062, 'Bachelor': 23376}}\n"
     ]
    }
   ],
   "source": [
    "the_dict = {}\n",
    "Education_state = {}\n",
    "for u,v in Education_parts.items():\n",
    "    for x,y in Education_parts.items():\n",
    "        if u[0] == x[0] and u != x:\n",
    "            for ftr in v.keys():\n",
    "                the_dict[ftr] = int(v[ftr]) + int(y[ftr])\n",
    "            Education_state[state_code[u[0]]] = dict(the_dict)\n",
    "print(Education_state)"
   ]
  },
  {
   "cell_type": "code",
   "execution_count": 315,
   "metadata": {},
   "outputs": [],
   "source": [
    "outfile = open(\"AU_Area_Education.json\",\"w\")\n",
    "json.dump(Education_state,outfile)\n",
    "outfile.close()"
   ]
  },
  {
   "cell_type": "code",
   "execution_count": 114,
   "metadata": {},
   "outputs": [
    {
     "data": {
      "image/png": "[encoded data removed]",
      "text/plain": [
       "<Figure size 432x288 with 1 Axes>"
      ]
     },
     "metadata": {},
     "output_type": "display_data"
    }
   ],
   "source": [
    "fig = plt.figure()\n",
    "ax = fig.add_axes([0,0,1,1])\n",
    "ax.axis('equal')\n",
    "num_edu = list(Education_city['Sydney'].values())\n",
    "ax.pie(num_edu, labels = features,autopct='%1.2f%%')\n",
    "plt.show()"
   ]
  },
  {
   "cell_type": "code",
   "execution_count": 138,
   "metadata": {},
   "outputs": [
    {
     "data": {
      "image/png": "[encoded data removed]",
      "text/plain": [
       "<Figure size 360x360 with 1 Axes>"
      ]
     },
     "metadata": {},
     "output_type": "display_data"
    }
   ],
   "source": [
    "fig, ax = plt.subplots(figsize=(5, 5), subplot_kw=dict(aspect=\"equal\"))\n",
    "\n",
    "\n",
    "data = list(Education_city['Sydney'].values())\n",
    "\n",
    "wedges, texts = ax.pie(data, wedgeprops=dict(width=0.5), startangle=90)\n",
    "\n",
    "bbox_props = dict(boxstyle=\"square,pad=0.3\", fc=\"w\", ec=\"k\", lw=0.7)\n",
    "kw = dict(arrowprops=dict(arrowstyle=\"-\"),\n",
    "          bbox=bbox_props, zorder=0, va=\"center\")\n",
    "\n",
    "for i, p in enumerate(wedges):\n",
    "    ang = (p.theta2 - p.theta1)/2. + p.theta1\n",
    "    y = np.sin(np.deg2rad(ang))\n",
    "    x = np.cos(np.deg2rad(ang))\n",
    "    horizontalalignment = {-1: \"right\", 1: \"left\"}[int(np.sign(x))]\n",
    "    connectionstyle = \"angle,angleA=0,angleB={}\".format(ang)\n",
    "    kw[\"arrowprops\"].update({\"connectionstyle\": connectionstyle})\n",
    "    ax.annotate(features[i], xy=(x, y), xytext=(1.35*np.sign(x), 1.4*y),\n",
    "                horizontalalignment=horizontalalignment, **kw)\n",
    "\n",
    "ax.set_title(\"Education for Sydney\")\n",
    "\n",
    "plt.show()"
   ]
  },
  {
   "cell_type": "markdown",
   "metadata": {},
   "source": [
    "### Life Satisfaction"
   ]
  },
  {
   "cell_type": "code",
   "execution_count": 148,
   "metadata": {},
   "outputs": [],
   "source": [
    "lifefile = \"LifeSatis_2016.csv\"\n",
    "records = []\n",
    "with open(lifefile,\"r\") as file:\n",
    "    reader = csv.reader(file,delimiter = ',')\n",
    "    for row in reader:\n",
    "        records.append(row)\n",
    "    \n",
    "columns = records[0]\n",
    "records = records[1:]"
   ]
  },
  {
   "cell_type": "code",
   "execution_count": 149,
   "metadata": {},
   "outputs": [
    {
     "name": "stdout",
     "output_type": "stream",
     "text": [
      "[' state', ' _life_satisfaction_pc_70_synth', ' total_pop_synth', ' life_satisfaction_pc_0_to_60_synth', ' sa2_name16', ' life_satisfaction_pc_80_to_100_synth']\n"
     ]
    }
   ],
   "source": [
    "print(columns)"
   ]
  },
  {
   "cell_type": "code",
   "execution_count": 242,
   "metadata": {},
   "outputs": [],
   "source": [
    "cities_rename_x = {'North Sydney - Lavender Bay':'Sydney','Brisbane City':'Brisbane',\n",
    "                 'Perth City':'Perth','Hobart':'Hobart',\n",
    "                 'Port Adelaide':'Adelaide','East Melbourne':'Melbourne',\n",
    "                 'Darwin City':'Darwin'}  "
   ]
  },
  {
   "cell_type": "code",
   "execution_count": 243,
   "metadata": {},
   "outputs": [
    {
     "name": "stdout",
     "output_type": "stream",
     "text": [
      "{'Melbourne': {'Life Satisfaction70': '0.213678', 'Life Satisfaction0-60': '0.112881', 'Life Satisfaction80-100': '0.673441'}, 'Sydney': {'Life Satisfaction70': '0.221494', 'Life Satisfaction0-60': '0.11625', 'Life Satisfaction80-100': '0.662256'}, 'Brisbane': {'Life Satisfaction70': '0.247629', 'Life Satisfaction0-60': '0.182297', 'Life Satisfaction80-100': '0.570074'}, 'Adelaide': {'Life Satisfaction70': '0.218416', 'Life Satisfaction0-60': '0.181829', 'Life Satisfaction80-100': '0.599754'}, 'Perth': {'Life Satisfaction70': '0.236793', 'Life Satisfaction0-60': '0.152073', 'Life Satisfaction80-100': '0.611134'}, 'Hobart': {'Life Satisfaction70': '0.215155', 'Life Satisfaction0-60': '0.154461', 'Life Satisfaction80-100': '0.630383'}, 'Darwin': {'Life Satisfaction70': '0.202185', 'Life Satisfaction0-60': '0.12461', 'Life Satisfaction80-100': '0.673206'}}\n"
     ]
    }
   ],
   "source": [
    "# get population for cities\n",
    "Life_stats = {}\n",
    "Life_city = {}\n",
    "features = ['Life Satisfaction70','Life Satisfaction0-60','Life Satisfaction80-100']\n",
    "for i in range(len(records)):\n",
    "    if records[i][4] in cities_rename_x.keys():\n",
    "        Life_stats[features[0]] = records[i][1]\n",
    "        Life_stats[features[1]] = records[i][3]\n",
    "        Life_stats[features[2]] = records[i][5]\n",
    "        Life_city[cities_rename_x[records[i][4]]] = dict(Life_stats)\n",
    "        \n",
    "print(Life_city)"
   ]
  },
  {
   "cell_type": "code",
   "execution_count": 151,
   "metadata": {},
   "outputs": [],
   "source": [
    "outfile = open(\"AU_City_LifeSatisfaction.json\",\"w\")\n",
    "json.dump(Life_city,outfile)\n",
    "outfile.close()"
   ]
  },
  {
   "cell_type": "code",
   "execution_count": 155,
   "metadata": {},
   "outputs": [
    {
     "data": {
      "image/png": "[encoded data removed]",
      "text/plain": [
       "<Figure size 360x360 with 1 Axes>"
      ]
     },
     "metadata": {},
     "output_type": "display_data"
    }
   ],
   "source": [
    "fig, ax = plt.subplots(figsize=(5, 5), subplot_kw=dict(aspect=\"equal\"))\n",
    "\n",
    "\n",
    "data = list(Life_city['Melbourne'].values())\n",
    "\n",
    "wedges, texts = ax.pie(data, wedgeprops=dict(width=0.5), startangle=90)\n",
    "\n",
    "bbox_props = dict(boxstyle=\"square,pad=0.3\", fc=\"w\", ec=\"k\", lw=0.7)\n",
    "kw = dict(arrowprops=dict(arrowstyle=\"-\"),\n",
    "          bbox=bbox_props, zorder=0, va=\"center\")\n",
    "\n",
    "for i, p in enumerate(wedges):\n",
    "    ang = (p.theta2 - p.theta1)/2. + p.theta1\n",
    "    y = np.sin(np.deg2rad(ang))\n",
    "    x = np.cos(np.deg2rad(ang))\n",
    "    horizontalalignment = {-1: \"right\", 1: \"left\"}[int(np.sign(x))]\n",
    "    connectionstyle = \"angle,angleA=0,angleB={}\".format(ang)\n",
    "    kw[\"arrowprops\"].update({\"connectionstyle\": connectionstyle})\n",
    "    ax.annotate(features[i], xy=(x, y), xytext=(1.35*np.sign(x), 1.4*y),\n",
    "                horizontalalignment=horizontalalignment, **kw)\n",
    "\n",
    "ax.set_title(\"Life Satisfaction for Melbourne\")\n",
    "\n",
    "plt.show()"
   ]
  },
  {
   "cell_type": "code",
   "execution_count": null,
   "metadata": {},
   "outputs": [],
   "source": []
  }
 ],
 "metadata": {
  "kernelspec": {
   "display_name": "Python 3",
   "language": "python",
   "name": "python3"
  },
  "language_info": {
   "codemirror_mode": {
    "name": "ipython",
    "version": 3
   },
   "file_extension": ".py",
   "mimetype": "text/x-python",
   "name": "python",
   "nbconvert_exporter": "python",
   "pygments_lexer": "ipython3",
   "version": "3.7.4"
  }
 },
 "nbformat": 4,
 "nbformat_minor": 2
}
